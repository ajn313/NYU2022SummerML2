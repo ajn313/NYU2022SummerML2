{
  "cells": [
    {
      "cell_type": "code",
      "execution_count": null,
      "metadata": {
        "id": "AnoZjfOu_cv_"
      },
      "outputs": [],
      "source": [
        "import pandas as pd\n",
        "import numpy as np"
      ]
    },
    {
      "cell_type": "markdown",
      "metadata": {
        "id": "n2sz0O2N_cwB"
      },
      "source": [
        "## Load data from csv file"
      ]
    },
    {
      "cell_type": "code",
      "execution_count": null,
      "metadata": {
        "id": "7ySvcVJHBHvG"
      },
      "outputs": [],
      "source": [
        "names = ['CRIM','ZN','INDUS','CHAS','NOX','RM','AGE','DIS','RAD','TAX','PTRATIO','B','LSTAT','PRICE']\n",
        "df = pd.read_csv('https://archive.ics.uci.edu/ml/machine-learning-databases/housing/housing.data',\n",
        "                header=None, names=names , delim_whitespace = True, na_values='?')\n",
        "\n",
        "\"\"\"\n",
        "Attribute Information:\n",
        "    1.  CRIM      per capita crime rate by town\n",
        "    2.  ZN        proportion of residential land zoned for lots over \n",
        "                  25,000 sq.ft.\n",
        "    3.  INDUS     proportion of non-retail business acres per town\n",
        "    4.  CHAS      Charles River dummy variable (= 1 if tract bounds \n",
        "                  river; 0 otherwise)\n",
        "    5.  NOX       nitric oxides concentration (parts per 10 million)\n",
        "    6.  RM        average number of rooms per dwelling\n",
        "    7.  AGE       proportion of owner-occupied units built prior to 1940\n",
        "    8.  DIS       weighted distances to five Boston employment centres\n",
        "    9.  RAD       index of accessibility to radial highways\n",
        "    10. TAX       full-value property-tax rate per $10,000\n",
        "    11. PTRATIO   pupil-teacher ratio by town\n",
        "    12. B         1000(Bk - 0.63)^2 where Bk is the proportion of blocks by town\n",
        "    13. LSTAT     % lower status of the population\n",
        "    14. MEDV      Median value of owner-occupied homes in $1000's\n",
        "\"\"\"\n",
        "\n"
      ]
    },
    {
      "cell_type": "code",
      "execution_count": null,
      "metadata": {
        "id": "BCSqY8bL_cwC"
      },
      "outputs": [],
      "source": [
        "print ('df is an object of ', type(df))\n",
        "print ('\\n')\n",
        "print(df.head(5))\n",
        "print(df.shape)"
      ]
    },
    {
      "cell_type": "markdown",
      "metadata": {
        "id": "AJqfy0Ji_cwD"
      },
      "source": [
        "### Store values in the pandas dataframe as numpy arrays\n",
        "- we want to use the average number of rooms to predict the housing price\n",
        "- we need to extract the data from df and convert them to numpy arrays"
      ]
    },
    {
      "cell_type": "code",
      "execution_count": null,
      "metadata": {
        "id": "DnClZNwpEms6"
      },
      "outputs": [],
      "source": [
        "y = df['PRICE'].values\n",
        "x = df['RM'].values\n",
        "\n",
        "crime = df['CRIM'].values\n",
        "print ('both x and y are now objects of', type(x))\n",
        "\n",
        "print(crime.shape)"
      ]
    },
    {
      "cell_type": "markdown",
      "metadata": {
        "id": "op9XtIgG_cwF"
      },
      "source": [
        "### Plot the housing price against the average number of rooms"
      ]
    },
    {
      "cell_type": "code",
      "execution_count": null,
      "metadata": {
        "id": "eb1dMMhXFUqx"
      },
      "outputs": [],
      "source": [
        "import matplotlib.pyplot as plt\n",
        "\n",
        "plt.plot(x,y,'o')\n",
        "plt.xlabel('Average Number of Rooms')\n",
        "plt.ylabel('Price')\n",
        "plt.grid()"
      ]
    },
    {
      "cell_type": "markdown",
      "metadata": {
        "id": "AgOsOzRXTbIP"
      },
      "source": [
        "# Guess a line to fit the data"
      ]
    },
    {
      "cell_type": "code",
      "execution_count": null,
      "metadata": {
        "id": "luFvmrCzF5Wx"
      },
      "outputs": [],
      "source": [
        "w1 = 9\n",
        "w0 = -30\n",
        "xplt = np.linspace(3,9,100)\n",
        "yplt = w1 * xplt + w0\n",
        "plt.plot(x,y,'o')    # Plot the data points\n",
        "\n",
        "yplt1 = 12*xplt -53\n",
        "yplt2 = xplt*13 -60\n",
        "\n",
        "plt.plot(xplt,yplt,'-',linewidth=3)  # Plot the line\n",
        "plt.plot(xplt,yplt1,'-',linewidth=3)  # Plot the line\n",
        "plt.plot(xplt,yplt2,'-',linewidth=3)  # Plot the line\n",
        "plt.xlabel('Average number of rooms in a region')\n",
        "plt.ylabel('Price')\n",
        "plt.grid()\n"
      ]
    },
    {
      "cell_type": "markdown",
      "metadata": {
        "id": "_k2ftd_WPxu8"
      },
      "source": [
        "## Calculate the Mean Squared Error (MSE) and Mean Absolute Error (MAE) to determine goodness of fit"
      ]
    },
    {
      "cell_type": "markdown",
      "metadata": {
        "id": "DJnPakr0_cwH"
      },
      "source": [
        "### Reminder :\n",
        "\n",
        "Given :\n",
        "- a dataset : $(x_i, y_i)$, $i = 1, 2, 3, ..., N$\n",
        "- a model : $\\hat{y} = w_1x + w_0$\n",
        "\n",
        "We can compute the following two error functions :\n",
        "- Mean Squared Error: $\\displaystyle MSE = \\frac{1}{N}\\sum_{i=1}^N || y_i - \\hat{y_i}||^2$\n",
        "- Mean Absolute Error: $\\displaystyle MAE = \\frac{1}{N}\\sum_{i=1}^N |y_i - \\hat{y_i}|$"
      ]
    },
    {
      "cell_type": "code",
      "execution_count": null,
      "metadata": {
        "id": "WhvseoAl_Rk-"
      },
      "outputs": [],
      "source": [
        "## To-do\n",
        "yhat = 13*x -60\n",
        "mse_ = np.mean((y - yhat)**2)\n",
        "mae_ = np.mean(np.abs(y - yhat))\n",
        "\n",
        "print(mse_)\n",
        "print(mae_)"
      ]
    },
    {
      "cell_type": "code",
      "execution_count": null,
      "metadata": {
        "id": "zrDlrLF1a3Ob"
      },
      "outputs": [],
      "source": [
        "ones_v = np.ones((x.shape[0],1))\n",
        "X = np.hstack([ones_v, x.reshape((-1,1))])\n",
        "\n",
        "w = np.linalg.inv(X.transpose()@X)@X.transpose()@y\n",
        "print(w)\n",
        "\n",
        "y_hat = w[1] * x + w[0]\n",
        "plt.plot(x,y,'o')   \n",
        "\n",
        "plt.plot(x,y_hat,'-',linewidth=3) \n",
        "plt.xlabel('Average number of rooms in a region')\n",
        "plt.ylabel('Price')\n",
        "plt.grid()\n",
        "\n",
        "mse_ = np.mean((y - yhat)**2)\n",
        "mae_ = np.mean(np.abs(y - yhat))\n",
        "\n",
        "print(mse_)\n",
        "print(mae_)"
      ]
    },
    {
      "cell_type": "code",
      "execution_count": null,
      "metadata": {
        "id": "2cFmWup2a3Ob"
      },
      "outputs": [],
      "source": [
        ""
      ]
    }
  ],
  "metadata": {
    "colab": {
      "collapsed_sections": [],
      "name": "Boston_Housing_One_Variable.ipynb",
      "provenance": []
    },
    "kernelspec": {
      "display_name": "Python 3",
      "language": "python",
      "name": "python3"
    },
    "language_info": {
      "codemirror_mode": {
        "name": "ipython",
        "version": 3
      },
      "file_extension": ".py",
      "mimetype": "text/x-python",
      "name": "python",
      "nbconvert_exporter": "python",
      "pygments_lexer": "ipython3",
      "version": "3.7.4"
    }
  },
  "nbformat": 4,
  "nbformat_minor": 0
}